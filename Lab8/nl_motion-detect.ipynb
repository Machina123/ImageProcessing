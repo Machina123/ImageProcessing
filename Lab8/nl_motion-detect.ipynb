{
 "cells": [
  {
   "cell_type": "markdown",
   "metadata": {},
   "source": [
    "### Wykrywanie obszarów ruchu"
   ]
  },
  {
   "cell_type": "code",
   "execution_count": null,
   "metadata": {},
   "outputs": [],
   "source": [
    "import numpy as np\n",
    "import matplotlib.pyplot as plt\n",
    "from skimage import io\n",
    "from skimage.color import rgb2gray\n",
    "\n",
    "\n",
    "path = './'\n",
    "\n",
    "im1 = io.imread(path + 'ziarna1.jpg')\n",
    "im2 = io.imread(path + 'ziarna2.jpg')\n",
    "\n",
    "\n",
    "plt.imshow(im1)\n",
    "plt.show()\n",
    "\n",
    "plt.imshow(im2)\n",
    "plt.show()"
   ]
  },
  {
   "cell_type": "code",
   "execution_count": null,
   "metadata": {},
   "outputs": [],
   "source": [
    "import cv2\n",
    "\n",
    "diff = cv2.absdiff(im1, im2)\n",
    "\n",
    "gray = cv2.cvtColor(diff, cv2.COLOR_RGB2GRAY)\n",
    "\n",
    "plt.imshow(gray, cmap=\"gray\")\n",
    "plt.title('Grayscale')\n",
    "plt.show()\n",
    "\n",
    "ret, diff2 = cv2.threshold(gray,20,255,cv2.THRESH_BINARY)\n",
    "\n",
    "plt.imshow(diff)\n",
    "plt.title('Original RGB')\n",
    "plt.show()\n",
    "\n",
    "plt.imshow(diff2, cmap=\"gray\")\n",
    "plt.title('Binary')\n",
    "plt.show()"
   ]
  },
  {
   "cell_type": "code",
   "execution_count": null,
   "metadata": {},
   "outputs": [],
   "source": [
    "import numpy as np\n",
    "\n",
    "kernel = np.ones((5,5),np.uint8)\n",
    "opening = cv2.morphologyEx(diff2, cv2.MORPH_CLOSE, kernel)\n",
    "\n",
    "cnts = cv2.findContours(opening.copy(), cv2.RETR_EXTERNAL, cv2.CHAIN_APPROX_NONE)[1]\n",
    "# cnts = imutils.grab_contours(cnts)\n",
    "\n",
    "minArea = 50\n",
    "margin = 3\n",
    "\n",
    "for c in cnts:\n",
    "    if cv2.contourArea(c) > minArea:\n",
    "        (x, y, w, h) = cv2.boundingRect(c)\n",
    "        cv2.rectangle(im2, (x - margin, y - margin), (x + w + margin, y + h + margin), (0, 0, 255), 2)\n",
    "        print('Status: object detected')\n",
    "        print(x, y, w, h)\n",
    "\n",
    "        plt.imshow(im2, interpolation='lanczos')\n",
    "        plt.title('Contours')\n",
    "        plt.show()\n",
    "        \n",
    "        print(im2.shape)\n",
    "        "
   ]
  },
  {
   "cell_type": "markdown",
   "metadata": {},
   "source": [
    "### Wykrywanie obszarów ruchu\n",
    "#### Analiza poklatkowa na przykładzie strumienia wideo\n",
    "####    "
   ]
  },
  {
   "cell_type": "code",
   "execution_count": null,
   "metadata": {},
   "outputs": [],
   "source": [
    "import numpy as np\n",
    "import cv2\n",
    "import matplotlib.pyplot as plt\n",
    "\n",
    "cap = cv2.VideoCapture('./man-walk.mp4')\n",
    "\n",
    "counter = 1\n",
    "fnum = [100, 101, 102]\n",
    "while(cap.isOpened()):\n",
    "    ret, frame = cap.read()\n",
    "    \n",
    "    if ret == False:\n",
    "        break\n",
    "    \n",
    "    gray = cv2.cvtColor(frame, cv2.COLOR_RGB2GRAY)\n",
    "\n",
    "    if counter in fnum:\n",
    "        plt.imshow(gray, cmap='gray')\n",
    "        plt.show()\n",
    "\n",
    "    counter += 1\n",
    "        \n",
    "cap.release()"
   ]
  },
  {
   "cell_type": "code",
   "execution_count": null,
   "metadata": {},
   "outputs": [],
   "source": [
    "# from imutils.video import VideoStream\n",
    "# import imutils\n",
    "import numpy as np\n",
    "\n",
    "def motionDetect(frame, num):\n",
    "\n",
    "    bg = 255*np.ones_like(frame)\n",
    "    \n",
    "    diff = cv2.absdiff(frame, bg)\n",
    "\n",
    "    gray = cv2.cvtColor(diff, cv2.COLOR_RGB2GRAY)\n",
    "\n",
    "    ret, diff2 = cv2.threshold(gray,20,255,cv2.THRESH_BINARY)\n",
    "    \n",
    "    kernel = np.ones((5,5),np.uint8)\n",
    "    opening = cv2.morphologyEx(diff2, cv2.MORPH_CLOSE, kernel)\n",
    "\n",
    "    cnts = cv2.findContours(opening.copy(), cv2.RETR_EXTERNAL, cv2.CHAIN_APPROX_NONE)[1]\n",
    "\n",
    "    minArea = 500\n",
    "    margin = 3\n",
    "\n",
    "    for c in cnts:\n",
    "        if cv2.contourArea(c) > minArea:\n",
    "            (x, y, w, h) = cv2.boundingRect(c)\n",
    "            cv2.rectangle(frame, (x - margin, y - margin), (x + w + margin, y + h + margin), (0, 0, 255), 2)\n",
    "            print('Frame no.: ' + str(num))\n",
    "            print('Status: object detected')\n",
    "            print('Motion area: ', x, y, w, h, end=\"\\n\\n\")\n",
    "\n",
    "    plt.figure()\n",
    "    plt.imshow(frame, interpolation='lanczos')\n",
    "    plt.title('Contours')\n",
    "    plt.show()"
   ]
  },
  {
   "cell_type": "code",
   "execution_count": null,
   "metadata": {
    "scrolled": false
   },
   "outputs": [],
   "source": [
    "import numpy as np\n",
    "import cv2\n",
    "import matplotlib.pyplot as plt\n",
    "\n",
    "cap = cv2.VideoCapture('./man-walk.mp4')\n",
    "\n",
    "counter = 1\n",
    "fnum = list(range(100,103))\n",
    "\n",
    "prevFrame = None\n",
    "\n",
    "while(cap.isOpened()):\n",
    "    ret, frame = cap.read()\n",
    "    \n",
    "    if ret == False:\n",
    "        break\n",
    "\n",
    "    if counter in fnum:\n",
    "        motionDetect(frame, counter)\n",
    "\n",
    "    counter += 1\n",
    "        \n",
    "cap.release()"
   ]
  },
  {
   "cell_type": "markdown",
   "metadata": {},
   "source": [
    "### Metoda uśredniania tła :: wyznaczanie modelu tła\n",
    "\n",
    "<ol>\n",
    "<li style=\"margin: 3px\">Obliczamy średni obraz tła</li>\n",
    "<li style=\"margin: 3px\">Obliczamy odchylenie standardowe tła (przybliżenie: średnie różnice, FFAAD)</li>\n",
    "    + FFAAD (ang. Frame-to-Frame Average Absolute Difference)\n",
    "<li style=\"margin: 3px\">Ustalamy progi względem wielokrotności FFAAD:</li>\n",
    "    + HighThreshold\n",
    "    + LowThreshold\n",
    "<li style=\"margin: 3px\">Odejmujemy poszczególne klatki obrazu i porównujemy z modelem tła</li>    \n",
    "<li style=\"margin: 3px\">Piksele nie pasujące do modelu tła uznajemy za obszar obiektów w ruchu</li>    \n",
    "</ol>"
   ]
  },
  {
   "cell_type": "code",
   "execution_count": null,
   "metadata": {},
   "outputs": [],
   "source": []
  }
 ],
 "metadata": {
  "kernelspec": {
   "display_name": "Python [default]",
   "language": "python",
   "name": "python3"
  },
  "language_info": {
   "codemirror_mode": {
    "name": "ipython",
    "version": 3
   },
   "file_extension": ".py",
   "mimetype": "text/x-python",
   "name": "python",
   "nbconvert_exporter": "python",
   "pygments_lexer": "ipython3",
   "version": "3.6.6"
  }
 },
 "nbformat": 4,
 "nbformat_minor": 2
}
