{
 "cells": [
  {
   "cell_type": "markdown",
   "metadata": {},
   "source": [
    "## Zadanie domowe: \"mój histogram\"\n",
    "Przetwarzanie obrazów cyfrowych\n",
    "\n",
    "Autor: Patryk Ciepiela"
   ]
  },
  {
   "cell_type": "code",
   "execution_count": 236,
   "metadata": {},
   "outputs": [],
   "source": [
    "# ładowanie bibliotek\n",
    "from skimage import data, img_as_ubyte, exposure\n",
    "import matplotlib.pyplot as plt\n",
    "import numpy as np"
   ]
  },
  {
   "cell_type": "code",
   "execution_count": 237,
   "metadata": {},
   "outputs": [],
   "source": [
    "# Tu można podstawić dowolny obrazek\n",
    "im = data.moon()"
   ]
  },
  {
   "cell_type": "code",
   "execution_count": 238,
   "metadata": {},
   "outputs": [],
   "source": [
    "def my_histogram(img):          # Funkcja generująca histogram:\n",
    "    br_list = [0]*256           # tworzę 256-elementową tablicę przechowującą ilosć \"pikseli\" na obrazku o danej luminancji\n",
    "                                # i wypełniam ją zerami\n",
    "        \n",
    "    if len(img.shape) > 2 :     # jeżeli funkcja dostanie kolorowy obrazek:\n",
    "        channels = img.shape[2] # pobieram ilość kanałów \"w obrazku\"\n",
    "    else:                       # w przeciwnym przypadku\n",
    "        channels = 1            # zakładam, że obrazek jest w skali szarości (posiada tylko jeden kanał)\n",
    "    \n",
    "    img = img_as_ubyte(img)     # za pomocą wbudowanej w scikit funkcji zamieniam wartości luminancji na liczby całkowite 0-255\n",
    "    \n",
    "    for x in range(img.shape[0]):      \n",
    "        for y in range(img.shape[1]):               # dla każdego punktu na obrazie\n",
    "            for z in range(channels):               # ... oraz każdego kanału (jeżeli więcej niż jeden)\n",
    "                if(channels > 1):                   #\n",
    "                    curr_brightness = img[x][y][z]  #\n",
    "                else:                               # pobieram wartość luminancji\n",
    "                    curr_brightness = img[x][y]     #\n",
    "                br_list[curr_brightness] += 1       # i zwiększam ilość \"pikseli\" o danej luminancji o 1 \n",
    "    return br_list                                  # zwrócona \"tablica\" zawiera informację o ilości punktów o danej luminancji\n",
    "\n",
    "# Funkcja pomocnicza - rysowanie histogramu (skopiowane z pliku udostępnionego na zajęciach)\n",
    "def plot_histogram(x_axis, y_axis, title=\"\"): \n",
    "    plt.bar(x_axis, y_axis)\n",
    "    plt.xlim([min(x_axis)-10, max(x_axis)+10])\n",
    "    plt.title(title)\n",
    "    plt.grid()\n",
    "    plt.show()\n",
    "    "
   ]
  },
  {
   "cell_type": "code",
   "execution_count": 239,
   "metadata": {},
   "outputs": [
    {
     "data": {
      "image/png": "[encoded data removed]",
      "text/plain": [
       "<Figure size 432x288 with 1 Axes>"
      ]
     },
     "metadata": {
      "needs_background": "light"
     },
     "output_type": "display_data"
    },
    {
     "data": {
      "image/png": "[encoded data removed]",
      "text/plain": [
       "<Figure size 432x288 with 1 Axes>"
      ]
     },
     "metadata": {
      "needs_background": "light"
     },
     "output_type": "display_data"
    }
   ],
   "source": [
    "# Efekt końcowy\n",
    "plot_histogram(range(256), my_histogram(im), \"Mój histogram\")\n",
    "\n",
    "histogram = exposure.histogram(im, nbins=256)\n",
    "hist, cbins = histogram\n",
    "plot_histogram(cbins, hist, \"Histogram liczony przez Scikit\")"
   ]
  },
  {
   "cell_type": "code",
   "execution_count": null,
   "metadata": {},
   "outputs": [],
   "source": []
  }
 ],
 "metadata": {
  "kernelspec": {
   "display_name": "Python [default]",
   "language": "python",
   "name": "python3"
  },
  "language_info": {
   "codemirror_mode": {
    "name": "ipython",
    "version": 3
   },
   "file_extension": ".py",
   "mimetype": "text/x-python",
   "name": "python",
   "nbconvert_exporter": "python",
   "pygments_lexer": "ipython3",
   "version": "3.6.6"
  }
 },
 "nbformat": 4,
 "nbformat_minor": 2
}
