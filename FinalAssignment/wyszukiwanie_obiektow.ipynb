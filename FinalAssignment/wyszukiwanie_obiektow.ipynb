{
 "cells": [
  {
   "cell_type": "code",
   "execution_count": 1,
   "metadata": {},
   "outputs": [],
   "source": [
    "from skimage import io, color, img_as_ubyte, util\n",
    "import numpy as np\n",
    "import cv2"
   ]
  },
  {
   "cell_type": "markdown",
   "metadata": {},
   "source": [
    "Funkcja isIn sprawdza czy dane wspolrzedne i,j mieszczą się w tablicy(image)"
   ]
  },
  {
   "cell_type": "code",
   "execution_count": 2,
   "metadata": {},
   "outputs": [],
   "source": [
    "\n",
    "\n",
    "def isIn(i,j,image):\n",
    "    return i >= 0 and i < image.shape[0] and j >=0 and j < image.shape[1]\n",
    "\n"
   ]
  },
  {
   "cell_type": "markdown",
   "metadata": {},
   "source": [
    "Funkcja bfs indeksuje wszystkie piksele należącę do danego obiektu, i,j to pierwszy napotkany punkt obrazu"
   ]
  },
  {
   "cell_type": "code",
   "execution_count": 3,
   "metadata": {},
   "outputs": [],
   "source": [
    "def bfs(i,j,image,color):\n",
    "    q = [(i,j)]\n",
    "    while q:\n",
    "        ii,jj = q.pop(0)\n",
    "        for dx in range(-1,2):\n",
    "            for dy in range(-1,2):\n",
    "                if dx == 0 and dy == 0:\n",
    "                    continue\n",
    "                a = ii + dx\n",
    "                b = jj + dy\n",
    "                if isIn(a,b,image) and image[a][b] == 0:\n",
    "                    image[a][b] = color\n",
    "                    q.append((a,b))\n"
   ]
  },
  {
   "cell_type": "markdown",
   "metadata": {},
   "source": [
    "Funckja getImage pobiera obraz z danej lokalizacji url"
   ]
  },
  {
   "cell_type": "code",
   "execution_count": 4,
   "metadata": {},
   "outputs": [],
   "source": [
    "\n",
    "def getImage(url):\n",
    "    p = io.imread(url)\n",
    "    p = color.rgb2gray(p)\n",
    "    p = img_as_ubyte(p) \n",
    "    p = util.invert(p)\n",
    "    return p\n",
    "\n"
   ]
  },
  {
   "cell_type": "markdown",
   "metadata": {},
   "source": [
    "Funkcja searchObjects przeszukuje obraz i dla kazdego znalezionego piksela o wartosci 0 wywoluje przeszukiwanie wszerz (funckja bfs)"
   ]
  },
  {
   "cell_type": "code",
   "execution_count": 5,
   "metadata": {},
   "outputs": [],
   "source": [
    "def searchObjects(image,start = 10,step = 90):\n",
    "    cnt = start\n",
    "    x = 0\n",
    "    for i in range(image.shape[0]):\n",
    "        for j in range(image.shape[1]):\n",
    "            v = image[i][j]\n",
    "            if v == 0:\n",
    "                x += 1\n",
    "                image[i][j] = cnt\n",
    "                bfs(i,j,image,cnt)\n",
    "                cnt += step\n",
    "    return x,image"
   ]
  },
  {
   "cell_type": "code",
   "execution_count": 6,
   "metadata": {},
   "outputs": [],
   "source": [
    "import warnings\n",
    "warnings.filterwarnings('ignore')\n",
    "\n",
    "p = getImage('pattern1.png')\n",
    "\n",
    "th = 150\n",
    "th, bim = cv2.threshold(p, thresh=th, maxval=255, type=cv2.THRESH_BINARY_INV)"
   ]
  },
  {
   "cell_type": "code",
   "execution_count": 7,
   "metadata": {},
   "outputs": [],
   "source": [
    "cnt,indexed_image = searchObjects(bim)"
   ]
  },
  {
   "cell_type": "code",
   "execution_count": null,
   "metadata": {},
   "outputs": [],
   "source": []
  },
  {
   "cell_type": "code",
   "execution_count": 8,
   "metadata": {},
   "outputs": [
    {
     "name": "stdout",
     "output_type": "stream",
     "text": [
      "found 3 objects\n"
     ]
    }
   ],
   "source": [
    "print('found {} objects'.format(cnt))"
   ]
  },
  {
   "cell_type": "code",
   "execution_count": null,
   "metadata": {},
   "outputs": [],
   "source": []
  },
  {
   "cell_type": "code",
   "execution_count": 9,
   "metadata": {},
   "outputs": [],
   "source": [
    "from skimage import data\n",
    "\n",
    "def show2imgs(im1, im2, title1='Obraz pierwszy', title2='Obraz drugi', size=(20,20)):\n",
    "    \n",
    "    import matplotlib.pyplot as plt\n",
    "    \n",
    "    _, (ax1, ax2) = plt.subplots(1,2, figsize=size)\n",
    "    ax1.imshow(im1, cmap='gray')\n",
    "    ax1.axis('off')\n",
    "    ax1.set_title(title1)\n",
    "\n",
    "    ax2.imshow(im2, cmap='gray')\n",
    "    ax2.axis('off')\n",
    "    ax2.set_title(title2)\n",
    "    plt.show()"
   ]
  },
  {
   "cell_type": "code",
   "execution_count": 10,
   "metadata": {},
   "outputs": [
    {
     "data": {
      "image/png": "[encoded data removed]",
      "text/plain": [
       "<Figure size 1440x1440 with 2 Axes>"
      ]
     },
     "metadata": {
      "needs_background": "light"
     },
     "output_type": "display_data"
    }
   ],
   "source": [
    "show2imgs(getImage('pattern1.png'), indexed_image,\"Obraz oryginalny\",\"Wydzielone obiekty\")"
   ]
  },
  {
   "cell_type": "code",
   "execution_count": null,
   "metadata": {},
   "outputs": [],
   "source": []
  }
 ],
 "metadata": {
  "kernelspec": {
   "display_name": "Python 3",
   "language": "python",
   "name": "python3"
  },
  "language_info": {
   "codemirror_mode": {
    "name": "ipython",
    "version": 3
   },
   "file_extension": ".py",
   "mimetype": "text/x-python",
   "name": "python",
   "nbconvert_exporter": "python",
   "pygments_lexer": "ipython3",
   "version": "3.6.8"
  }
 },
 "nbformat": 4,
 "nbformat_minor": 2
}
