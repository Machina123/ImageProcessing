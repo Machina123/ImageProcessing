{
 "cells": [
  {
   "cell_type": "code",
   "execution_count": 1,
   "metadata": {},
   "outputs": [
    {
     "data": {
      "text/plain": [
       "<Figure size 640x480 with 1 Axes>"
      ]
     },
     "metadata": {},
     "output_type": "display_data"
    },
    {
     "data": {
      "text/plain": [
       "<Figure size 640x480 with 1 Axes>"
      ]
     },
     "metadata": {},
     "output_type": "display_data"
    }
   ],
   "source": [
    "import numpy as np\n",
    "import matplotlib.pyplot as plt\n",
    "from skimage import io\n",
    "from skimage.color import rgb2gray\n",
    "\n",
    "\n",
    "path = './'\n",
    "\n",
    "image = io.imread(path + 'pattern2.png')\n",
    "\n",
    "image = rgb2gray(image)\n",
    "\n",
    "plt.imshow(image, cmap='gray')\n",
    "plt.axis('on')\n",
    "plt.suptitle('Analizowany obraz')\n",
    "plt.show()\n",
    "\n",
    "bins=np.arange(0, 257)\n",
    "histo = np.histogram(image, bins=bins)\n",
    "\n",
    "hist, bins = histo\n",
    "\n",
    "plt.plot(bins[:-1], hist)\n",
    "plt.suptitle('Histogram')\n",
    "plt.show()"
   ]
  },
  {
   "cell_type": "code",
   "execution_count": 2,
   "metadata": {},
   "outputs": [
    {
     "name": "stdout",
     "output_type": "stream",
     "text": [
      "Prog binaryzacji:  0.5809978768382353\n"
     ]
    },
    {
     "data": {
      "image/png": "[encoded data removed]",
      "text/plain": [
       "<Figure size 432x288 with 1 Axes>"
      ]
     },
     "metadata": {
      "needs_background": "light"
     },
     "output_type": "display_data"
    }
   ],
   "source": [
    "from skimage import filters\n",
    "\n",
    "th = filters.threshold_otsu(image)\n",
    "print('Prog binaryzacji: ', th)\n",
    "\n",
    "binary = image < th\n",
    "\n",
    "plt.imshow(binary, cmap='binary')\n",
    "plt.axis('on')\n",
    "plt.suptitle('Obraz po binaryzacji')\n",
    "plt.show()"
   ]
  },
  {
   "cell_type": "code",
   "execution_count": null,
   "metadata": {},
   "outputs": [],
   "source": []
  },
  {
   "cell_type": "code",
   "execution_count": 3,
   "metadata": {},
   "outputs": [],
   "source": [
    "from scipy import ndimage as ndi\n",
    "label_objects, nb_labels = ndi.label(binary)\n",
    "\n",
    "sizes = np.bincount(label_objects.ravel())\n",
    "mask_sizes = sizes > 20\n",
    "mask_sizes[0] = 0\n",
    "\n",
    "figures = mask_sizes[label_objects]"
   ]
  },
  {
   "cell_type": "code",
   "execution_count": 4,
   "metadata": {},
   "outputs": [
    {
     "data": {
      "image/png": "[encoded data removed]",
      "text/plain": [
       "<Figure size 432x288 with 1 Axes>"
      ]
     },
     "metadata": {
      "needs_background": "light"
     },
     "output_type": "display_data"
    },
    {
     "name": "stdout",
     "output_type": "stream",
     "text": [
      "(344, 549)\n",
      "(344, 549)\n",
      "3\n"
     ]
    }
   ],
   "source": [
    "plt.imshow(figures, cmap=\"hot\")\n",
    "plt.axis('on')\n",
    "plt.suptitle('Obiekty na obrazie')\n",
    "plt.show()\n",
    "\n",
    "print(figures.shape)\n",
    "print(label_objects.shape)\n",
    "print(nb_labels)"
   ]
  },
  {
   "cell_type": "code",
   "execution_count": 5,
   "metadata": {},
   "outputs": [
    {
     "data": {
      "image/png": "[encoded data removed]",
      "text/plain": [
       "<Figure size 432x288 with 1 Axes>"
      ]
     },
     "metadata": {
      "needs_background": "light"
     },
     "output_type": "display_data"
    },
    {
     "name": "stdout",
     "output_type": "stream",
     "text": [
      "[171447   6695   5586   5128] [False  True  True  True]\n",
      "3\n",
      "0\n",
      "0\n",
      "5586\n"
     ]
    }
   ],
   "source": [
    "plt.imshow(label_objects,cmap='hot')\n",
    "plt.show()\n",
    "\n",
    "mask_sizes\n",
    "print(sizes, mask_sizes)\n",
    "print(label_objects[250][300])\n",
    "print(label_objects[100][400])\n",
    "print(label_objects[100][100])\n",
    "# print label_objects.size, label_objects.shape\n",
    "print(np.sum(label_objects == 2))"
   ]
  },
  {
   "cell_type": "code",
   "execution_count": 6,
   "metadata": {},
   "outputs": [
    {
     "name": "stdout",
     "output_type": "stream",
     "text": [
      "[(65, 375), (151, 142), (262, 300)]\n"
     ]
    }
   ],
   "source": [
    "no_of_object = 2\n",
    "\n",
    "def cog(labelledImage, objNumber):\n",
    "    cx = 0\n",
    "    cy = 0\n",
    "    for y in range(labelledImage.shape[0]):\n",
    "        for x in range(labelledImage.shape[1]):\n",
    "            if labelledImage[y,x] == objNumber:\n",
    "                cy = cy + y\n",
    "                cx = cx + x\n",
    "\n",
    "    cx = cx / sizes[objNumber]\n",
    "    cy = cy / sizes[objNumber]\n",
    "\n",
    "    return int(cy), int(cx)\n",
    "\n",
    "cogs = []\n",
    "for i in range(nb_labels):\n",
    "    cogs.append(cog(label_objects, i+1))\n",
    "\n",
    "print(cogs)"
   ]
  },
  {
   "cell_type": "code",
   "execution_count": 7,
   "metadata": {},
   "outputs": [
    {
     "data": {
      "image/png": "[encoded data removed]",
      "text/plain": [
       "<Figure size 720x720 with 1 Axes>"
      ]
     },
     "metadata": {
      "needs_background": "light"
     },
     "output_type": "display_data"
    }
   ],
   "source": [
    "def drawMarkers(image, coords):\n",
    "\n",
    "    image = np.copy(image)\n",
    "    \n",
    "    for item in coords:\n",
    "        y,x = item\n",
    "        for j in range(y-5, y+6):\n",
    "            image[j,x] = 0\n",
    "        for i in range(x-5, x+6):\n",
    "            image[y,i] = 0\n",
    "            \n",
    "    return image\n",
    "\n",
    "\n",
    "lo = drawMarkers(label_objects, cogs)\n",
    "plt.figure(figsize=(10,10))\n",
    "plt.imshow(lo,cmap='hot')\n",
    "plt.show()"
   ]
  },
  {
   "cell_type": "code",
   "execution_count": 8,
   "metadata": {},
   "outputs": [
    {
     "name": "stdout",
     "output_type": "stream",
     "text": [
      "[(65, 375), (151, 142), (262, 300)]\n",
      "[(151, 142), (65, 375), (262, 300)]\n",
      "207.28000385951367\n",
      "380.5916446797013\n",
      "398.3013934196063\n"
     ]
    }
   ],
   "source": [
    "from operator import itemgetter\n",
    "\n",
    "cogs2 = sorted(cogs, key=itemgetter(0,1))\n",
    "print(cogs2)\n",
    "\n",
    "from numpy.linalg import norm\n",
    "cogs3 = sorted(cogs, key=lambda tup: norm(tup))\n",
    "print(cogs3)\n",
    "\n",
    "for item in cogs3:\n",
    "    print(norm(item))"
   ]
  },
  {
   "cell_type": "code",
   "execution_count": 9,
   "metadata": {},
   "outputs": [
    {
     "name": "stdout",
     "output_type": "stream",
     "text": [
      "(151, 142) (65, 375)\n",
      "344\n"
     ]
    }
   ],
   "source": [
    "import math\n",
    "\n",
    "p1 = 0\n",
    "p2 = 1\n",
    "\n",
    "print(cogs3[p1], cogs3[p2])\n",
    "print(label_objects.shape[0])"
   ]
  },
  {
   "cell_type": "code",
   "execution_count": 10,
   "metadata": {},
   "outputs": [
    {
     "name": "stdout",
     "output_type": "stream",
     "text": [
      "-233 86\n",
      "20\n"
     ]
    }
   ],
   "source": [
    "y = cogs3[p1][0] - cogs3[p2][0]\n",
    "x = cogs3[p1][1] - cogs3[p2][1]\n",
    "print(x,y)\n",
    "\n",
    "angle = math.degrees(math.atan2(-y, x)) + 180\n",
    "\n",
    "print(int(angle))"
   ]
  },
  {
   "cell_type": "code",
   "execution_count": 11,
   "metadata": {},
   "outputs": [
    {
     "name": "stdout",
     "output_type": "stream",
     "text": [
      "3\n"
     ]
    }
   ],
   "source": [
    "def getFigure(labelledImage, objNumber):\n",
    "    \n",
    "    points = []\n",
    "    for y in range(labelledImage.shape[0]):\n",
    "        for x in range(labelledImage.shape[1]):\n",
    "            if labelledImage[y,x] == objNumber:\n",
    "                points.append((y,x))\n",
    "\n",
    "    return points\n",
    "\n",
    "print(nb_labels)"
   ]
  },
  {
   "cell_type": "code",
   "execution_count": 12,
   "metadata": {},
   "outputs": [
    {
     "name": "stdout",
     "output_type": "stream",
     "text": [
      "6695\n",
      "5586\n",
      "5128\n"
     ]
    }
   ],
   "source": [
    "for i in range(nb_labels):\n",
    "    pts = getFigure(label_objects, i+1)\n",
    "    print(len(pts))"
   ]
  },
  {
   "cell_type": "code",
   "execution_count": 13,
   "metadata": {},
   "outputs": [
    {
     "name": "stdout",
     "output_type": "stream",
     "text": [
      "Liczba punktow:  6695  Srodek ciezkosci:  [65.0, 375.0]\n",
      "Liczba punktow:  5586  Srodek ciezkosci:  [151.99104905119944, 142.3293949158611]\n",
      "Liczba punktow:  5128  Srodek ciezkosci:  [262.5, 300.0]\n"
     ]
    }
   ],
   "source": [
    "\n",
    "def cog2(points):\n",
    "    mx=0\n",
    "    my=0\n",
    "    for (y,x) in points:\n",
    "        mx = mx + x\n",
    "        my = my + y\n",
    "    mx = mx/len(points)\n",
    "    my = my/len(points)\n",
    "    \n",
    "    return [my, mx]\n",
    "\n",
    "\n",
    "for i in range(nb_labels):\n",
    "    pts = getFigure(label_objects, i+1)\n",
    "    \n",
    "    print('Liczba punktow: ',len(pts),' Srodek ciezkosci: ', cog2(pts))"
   ]
  },
  {
   "cell_type": "code",
   "execution_count": 14,
   "metadata": {},
   "outputs": [],
   "source": [
    "from scipy.spatial import distance\n",
    "\n",
    "def computeBB(points):\n",
    "    \n",
    "    s = len(points)\n",
    "    my,mx = cog2(pts)\n",
    "    \n",
    "    r = 0\n",
    "    for point in points:\n",
    "         r = r + distance.euclidean(point,(my,mx))**2\n",
    "            \n",
    "    return s/(math.sqrt(2*math.pi*r))"
   ]
  },
  {
   "cell_type": "code",
   "execution_count": 15,
   "metadata": {},
   "outputs": [
    {
     "name": "stdout",
     "output_type": "stream",
     "text": [
      "Liczba punktow:  6695  Srodek ciezkosci:  [65.0, 375.0]  Blair-Bliss:  0.9284876278556973\n",
      "Liczba punktow:  5586  Srodek ciezkosci:  [151.99104905119944, 142.3293949158611]  Blair-Bliss:  0.7835663582843604\n",
      "Liczba punktow:  5128  Srodek ciezkosci:  [262.5, 300.0]  Blair-Bliss:  0.999985365301193\n"
     ]
    }
   ],
   "source": [
    "for i in range(nb_labels):\n",
    "    pts = getFigure(label_objects, i+1)\n",
    "    bb = computeBB(pts)\n",
    "    \n",
    "    print('Liczba punktow: ',len(pts), ' Srodek ciezkosci: ', cog2(pts), ' Blair-Bliss: ', bb)"
   ]
  },
  {
   "cell_type": "code",
   "execution_count": 16,
   "metadata": {},
   "outputs": [],
   "source": [
    "def computeFeret(points):\n",
    "    \n",
    "    px = [x for (y,x) in points]\n",
    "    py = [y for (y,x) in points]\n",
    "    \n",
    "    fx = max(px) - min(px)\n",
    "    fy = max(py) - min(py)\n",
    "    \n",
    "    return float(fy)/float(fx)    "
   ]
  },
  {
   "cell_type": "code",
   "execution_count": 17,
   "metadata": {},
   "outputs": [
    {
     "name": "stdout",
     "output_type": "stream",
     "text": [
      "Liczba punktow:  6695 \n",
      "Srodek ciezkosci:  [65.0, 375.0] \n",
      "Blair-Bliss:  0.9284876278556973 \n",
      "Feret:  0.6274509803921569 \n",
      "---\n",
      "\n",
      "Liczba punktow:  5586 \n",
      "Srodek ciezkosci:  [151.99104905119944, 142.3293949158611] \n",
      "Blair-Bliss:  0.7835663582843604 \n",
      "Feret:  0.5611510791366906 \n",
      "---\n",
      "\n",
      "Liczba punktow:  5128 \n",
      "Srodek ciezkosci:  [262.5, 300.0] \n",
      "Blair-Bliss:  0.999985365301193 \n",
      "Feret:  0.9875 \n",
      "---\n",
      "\n"
     ]
    }
   ],
   "source": [
    "for i in range(nb_labels):\n",
    "    pts = getFigure(label_objects, i+1)\n",
    "    bb = computeBB(pts)\n",
    "    feret = computeFeret(pts)\n",
    "    \n",
    "    print('Liczba punktow: ',len(pts),'\\nSrodek ciezkosci: ', cog2(pts),'\\nBlair-Bliss: ', bb,'\\nFeret: ',feret, '\\n---\\n')"
   ]
  },
  {
   "cell_type": "code",
   "execution_count": 18,
   "metadata": {},
   "outputs": [
    {
     "data": {
      "image/png": "[encoded data removed]",
      "text/plain": [
       "<Figure size 360x360 with 1 Axes>"
      ]
     },
     "metadata": {
      "needs_background": "light"
     },
     "output_type": "display_data"
    },
    {
     "name": "stdout",
     "output_type": "stream",
     "text": [
      "{'m00': 5586.0, 'm10': 795052.0, 'm01': 849022.0, 'm20': 119285150.0, 'm11': 122574874.0, 'm02': 131006410.0, 'm30': 18836500600.0, 'm21': 18656439330.0, 'm12': 19154833246.0, 'm03': 20487602848.0, 'mu20': 6125879.913354814, 'mu11': 1734086.469745785, 'mu02': 1962665.5524525493, 'mu30': 114931815.26223755, 'mu21': 32541289.328917027, 'mu12': -18361062.763517737, 'mu03': -20814032.839374542, 'nu20': 0.1963209361364005, 'nu11': 0.05557364556555912, 'nu02': 0.06289910086878203, 'nu30': 0.04928195612057286, 'nu21': 0.013953476582227724, 'nu12': -0.007873094907394825, 'nu03': -0.008924911267970246}\n",
      "[[2.59220037e-01]\n",
      " [3.01551065e-02]\n",
      " [7.89374178e-03]\n",
      " [1.73998026e-03]\n",
      " [6.25446790e-06]\n",
      " [2.71691595e-04]\n",
      " [1.56991617e-06]]\n"
     ]
    }
   ],
   "source": [
    "i = 1\n",
    "pts = getFigure(label_objects, i+1)\n",
    "obj = np.zeros(image.shape, dtype='uint8')\n",
    "\n",
    "for coords in pts:\n",
    "    obj[coords] = 1\n",
    "\n",
    "import matplotlib.pyplot as plt\n",
    "import numpy as np\n",
    "\n",
    "plt.figure(figsize=(5,5))\n",
    "plt.imshow(obj, cmap=\"gray\")\n",
    "plt.axis('off')\n",
    "plt.show()\n",
    "\n",
    "import cv2\n",
    "\n",
    "moments = cv2.moments(obj)\n",
    "print(moments)\n",
    "hu = cv2.HuMoments(moments)\n",
    "print(hu)"
   ]
  },
  {
   "cell_type": "code",
   "execution_count": null,
   "metadata": {},
   "outputs": [],
   "source": []
  },
  {
   "cell_type": "code",
   "execution_count": null,
   "metadata": {},
   "outputs": [],
   "source": []
  }
 ],
 "metadata": {
  "kernelspec": {
   "display_name": "Python [default]",
   "language": "python",
   "name": "python3"
  },
  "language_info": {
   "codemirror_mode": {
    "name": "ipython",
    "version": 3
   },
   "file_extension": ".py",
   "mimetype": "text/x-python",
   "name": "python",
   "nbconvert_exporter": "python",
   "pygments_lexer": "ipython3",
   "version": "3.6.6"
  }
 },
 "nbformat": 4,
 "nbformat_minor": 2
}
