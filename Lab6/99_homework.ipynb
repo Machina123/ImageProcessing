{
 "cells": [
  {
   "cell_type": "code",
   "execution_count": 1,
   "metadata": {},
   "outputs": [],
   "source": [
    "import numpy as np\n",
    "import matplotlib.pyplot as plt\n",
    "from skimage import io, img_as_ubyte\n",
    "from skimage.color import rgb2gray\n",
    "import cv2\n",
    "import random\n",
    "import math"
   ]
  },
  {
   "cell_type": "code",
   "execution_count": 2,
   "metadata": {},
   "outputs": [],
   "source": [
    "INT32_MAX = 2147483647\n",
    "COLOR_FOREGROUND = 255\n",
    "COLOR_BACKGROUND = 0\n",
    "\n",
    "def showimg(_img, _title=\"Obraz\"):\n",
    "    print(_img.shape, _img.dtype)\n",
    "    plt.imshow(_img, cmap=\"gray\")\n",
    "    plt.axis('off')\n",
    "    plt.suptitle(_title)\n",
    "    plt.show()"
   ]
  },
  {
   "cell_type": "code",
   "execution_count": 3,
   "metadata": {},
   "outputs": [
    {
     "name": "stdout",
     "output_type": "stream",
     "text": [
      "(344, 549) uint8\n"
     ]
    },
    {
     "name": "stderr",
     "output_type": "stream",
     "text": [
      "C:\\Users\\Machina\\Anaconda3\\envs\\py36\\lib\\site-packages\\skimage\\util\\dtype.py:130: UserWarning: Possible precision loss when converting from float64 to uint8\n",
      "  .format(dtypeobj_in, dtypeobj_out))\n"
     ]
    },
    {
     "data": {
      "image/png": "[encoded data removed]",
      "text/plain": [
       "<Figure size 432x288 with 1 Axes>"
      ]
     },
     "metadata": {
      "needs_background": "light"
     },
     "output_type": "display_data"
    }
   ],
   "source": [
    "img = io.imread(\"./pattern1.png\")\n",
    "th = 128\n",
    "img = img_as_ubyte(rgb2gray(img))\n",
    "th, bim = cv2.threshold(img, thresh=th, maxval=255, type=cv2.THRESH_BINARY_INV)\n",
    "showimg(bim, _title=\"Załadowany obraz\")"
   ]
  },
  {
   "cell_type": "code",
   "execution_count": 5,
   "metadata": {},
   "outputs": [
    {
     "name": "stdout",
     "output_type": "stream",
     "text": [
      "Segmentacja trwała 6.347317 sekund\n",
      "Liczba obiektów na obrazie: 3\n",
      "(344, 549, 3) uint8\n"
     ]
    },
    {
     "data": {
      "image/png": "[encoded data removed]",
      "text/plain": [
       "<Figure size 432x288 with 1 Axes>"
      ]
     },
     "metadata": {
      "needs_background": "light"
     },
     "output_type": "display_data"
    }
   ],
   "source": [
    "def get_max_obj_no(segment_table):\n",
    "    max_segment_no = 0\n",
    "    for i in range(segment_table.shape[0]):\n",
    "        for j in range(segment_table.shape[1]):\n",
    "            if(segment_table[i][j] > max_segment_no):\n",
    "                max_segment_no = segment_table[i][j]\n",
    "    return max_segment_no\n",
    "\n",
    "def visualize(segment_table):\n",
    "    max_segment_no = get_max_obj_no(segment_table)\n",
    "    vimg = np.zeros([segment_table.shape[0], segment_table.shape[1], 3], dtype=np.uint8)\n",
    "    segment_colors = [None] * (max_segment_no + 1)\n",
    "    segment_colors[0] = (0,0,0)\n",
    "    for i in range(1, max_segment_no + 1):\n",
    "        segment_colors[i] = (random.randint(0,255), random.randint(0,255), random.randint(0,255))\n",
    "    \n",
    "    for x in range(vimg.shape[0]):\n",
    "        for y in range(vimg.shape[1]):\n",
    "            for z in range(vimg.shape[2]):\n",
    "                vimg[x][y][z] = segment_colors[segment_table[x][y]][z]\n",
    "    return vimg\n",
    "\n",
    "def is_in_image(shape, px=0, py=0):\n",
    "    return ((px>=0) and (px < shape[0]) and (py >= 0) and (py < shape[1]))\n",
    "\n",
    "def get_neighbouring(segment_table, px=0, py=0):\n",
    "    if (segment_table[px-1][py-1] != 0) and is_in_image(segment_table.shape, px=px-1, py=py-1):      # top left\n",
    "        return segment_table[px-1][py-1]\n",
    "    elif (segment_table[px-1][py] != 0) and is_in_image(segment_table.shape, px=px-1, py=py):     # top center\n",
    "        return segment_table[px-1][py]\n",
    "    elif (segment_table[px-1][py + 1] != 0) and is_in_image(segment_table.shape, px=px-1, py=py+1):  # top right\n",
    "        return segment_table[px-1][py+1]\n",
    "    elif (segment_table[px][py+1] != 0) and is_in_image(segment_table.shape, px=px, py=py+1):     # middle right\n",
    "        return segment_table[px][py+1]\n",
    "    elif (segment_table[px+1][py+1] != 0) and is_in_image(segment_table.shape, px=px+1, py=py+1):    # bottom right\n",
    "        return segment_table[px+1][py+1]\n",
    "    elif (segment_table[px+1][py] != 0) and is_in_image(segment_table.shape, px=px+1, py=py):     # bottom center\n",
    "        return segment_table[px+1][py]\n",
    "    elif (segment_table[px+1][py-1] != 0) and is_in_image(segment_table.shape, px=px+1, py=py-1):    # bottom left\n",
    "        return segment_table[px+1][py-1]\n",
    "    elif (segment_table[px][py-1] != 0) and is_in_image(segment_table.shape, px=px, py=py-1):     # middle left\n",
    "        return segment_table[px][py-1]\n",
    "    else:\n",
    "        return 0\n",
    "\n",
    "def get_min_neighbouring(segment_table, px=0, py=0):\n",
    "    neighbouring = []\n",
    "    min_neighbouring = INT32_MAX\n",
    "    \n",
    "    if is_in_image(segment_table.shape, px=px-1, py=py-1):      # top left\n",
    "        neighbouring.append(segment_table[px-1][py-1])\n",
    "    if is_in_image(segment_table.shape, px=px-1, py=py):     # top center\n",
    "        neighbouring.append(segment_table[px-1][py])\n",
    "    if is_in_image(segment_table.shape, px=px-1, py=py+1):  # top right\n",
    "        neighbouring.append(segment_table[px-1][py+1])\n",
    "    if is_in_image(segment_table.shape, px=px, py=py+1):     # middle right\n",
    "        neighbouring.append(segment_table[px][py+1])\n",
    "    if is_in_image(segment_table.shape, px=px+1, py=py+1):    # bottom right\n",
    "        neighbouring.append(segment_table[px+1][py+1])\n",
    "    if is_in_image(segment_table.shape, px=px+1, py=py):     # bottom center\n",
    "        neighbouring.append(segment_table[px+1][py])\n",
    "    if is_in_image(segment_table.shape, px=px+1, py=py-1):    # bottom left\n",
    "        neighbouring.append(segment_table[px+1][py-1])\n",
    "    if is_in_image(segment_table.shape, px=px, py=py-1):     # middle left\n",
    "        neighbouring.append(segment_table[px][py-1])\n",
    "    \n",
    "    for i in range(len(neighbouring)):\n",
    "        if neighbouring[i] < min_neighbouring:\n",
    "            min_neighbouring = neighbouring[i]\n",
    "    return 0 if min_neighbouring == INT32_MAX else min_neighbouring\n",
    "    \n",
    "def try_joining_objects(segment_table):\n",
    "    for i in range(segment_table.shape[0]):\n",
    "        for j in range(segment_table.shape[1]):\n",
    "            min_neighbour = get_min_neighbouring(segment_table, px=i, py=j)\n",
    "            if min_neighbour:\n",
    "                segment_table[i][j] = min_neighbour\n",
    "    return segment_table\n",
    "\n",
    "def discard_small_objects(segment_table):\n",
    "    small_obj_threshold_pct = 0.005\n",
    "    image_size = segment_table.shape[0] * segment_table.shape[1]\n",
    "    small_obj_threshold_count = math.floor(small_obj_threshold_pct * image_size)\n",
    "    unique_elements, counts_elements = np.unique(segment_table, return_counts=True)\n",
    "    tobediscarded = [False] * len(unique_elements)\n",
    "    for i in range(1, len(unique_elements)):\n",
    "        if counts_elements[i] <= small_obj_threshold_count:\n",
    "            tobediscarded[i] = True\n",
    "    discard_dict = dict(zip(unique_elements, tobediscarded))\n",
    "    for i in range(segment_table.shape[0]):\n",
    "        for j in range(segment_table.shape[1]):\n",
    "            if discard_dict.get(segment_table[i][j]) == True:\n",
    "                segment_table[i][j] = 0\n",
    "    return segment_table\n",
    "    \n",
    "def segment_by_region_growing(im):\n",
    "    object_num = 1\n",
    "    segment_table = np.zeros(im.shape, dtype=np.uint32)\n",
    "    global COLOR_FOREGROUND, COLOR_BACKGROUND\n",
    "    for i in range(im.shape[0]):\n",
    "        for j in range(im.shape[1]):\n",
    "            if im[i][j] == COLOR_FOREGROUND:\n",
    "                first_neighbour = get_neighbouring(segment_table, px=i, py=j)\n",
    "                if first_neighbour != 0:\n",
    "                    segment_table[i][j] = first_neighbour\n",
    "                else:\n",
    "                    segment_table[i][j] = object_num\n",
    "                    object_num += 1\n",
    "            else:\n",
    "                continue\n",
    "    for i in range(5):\n",
    "        try_joining_objects(segment_table)\n",
    "    discard_small_objects(segment_table)\n",
    "    return segment_table\n",
    "\n",
    "table = segment_by_region_growing(bim)\n",
    "print(\"Segmentacja trwała %f sekund\" % time_delta)\n",
    "print(\"Liczba obiektów na obrazie: %d\" % get_max_obj_no(table))\n",
    "\n",
    "showimg(visualize(table), _title=\"Wizualizacja segmentacji\")"
   ]
  },
  {
   "cell_type": "code",
   "execution_count": null,
   "metadata": {},
   "outputs": [],
   "source": []
  },
  {
   "cell_type": "code",
   "execution_count": null,
   "metadata": {},
   "outputs": [],
   "source": []
  },
  {
   "cell_type": "code",
   "execution_count": null,
   "metadata": {},
   "outputs": [],
   "source": []
  }
 ],
 "metadata": {
  "kernelspec": {
   "display_name": "Python [conda env:py36]",
   "language": "python",
   "name": "conda-env-py36-py"
  },
  "language_info": {
   "codemirror_mode": {
    "name": "ipython",
    "version": 3
   },
   "file_extension": ".py",
   "mimetype": "text/x-python",
   "name": "python",
   "nbconvert_exporter": "python",
   "pygments_lexer": "ipython3",
   "version": "3.6.6"
  }
 },
 "nbformat": 4,
 "nbformat_minor": 2
}
