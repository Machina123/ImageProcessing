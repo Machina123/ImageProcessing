{
 "cells": [
  {
   "cell_type": "code",
   "execution_count": 1,
   "metadata": {},
   "outputs": [],
   "source": [
    "import numpy as np\n",
    "import matplotlib.pyplot as plt\n",
    "from skimage import io, img_as_ubyte\n",
    "from skimage.color import rgb2gray\n",
    "import cv2"
   ]
  },
  {
   "cell_type": "code",
   "execution_count": 2,
   "metadata": {},
   "outputs": [],
   "source": [
    "OBJECTS_FOUND = 0\n",
    "COLOR_FOREGROUND = 0\n",
    "COLOR_BACKGROUND = 255\n",
    "\n",
    "def showimg(_img, _title=\"Obraz\"):\n",
    "    print(_img.shape, _img.dtype)\n",
    "    plt.imshow(_img, cmap=\"gray\")\n",
    "    plt.axis('on')\n",
    "    plt.suptitle(_title)\n",
    "    plt.show()"
   ]
  },
  {
   "cell_type": "code",
   "execution_count": 3,
   "metadata": {},
   "outputs": [
    {
     "name": "stdout",
     "output_type": "stream",
     "text": [
      "(344, 549) uint8\n"
     ]
    },
    {
     "name": "stderr",
     "output_type": "stream",
     "text": [
      "C:\\Users\\Machina\\Anaconda3\\envs\\py36\\lib\\site-packages\\skimage\\util\\dtype.py:130: UserWarning: Possible precision loss when converting from float64 to uint8\n",
      "  .format(dtypeobj_in, dtypeobj_out))\n"
     ]
    },
    {
     "data": {
      "image/png": "[encoded data removed]",
      "text/plain": [
       "<Figure size 432x288 with 1 Axes>"
      ]
     },
     "metadata": {
      "needs_background": "light"
     },
     "output_type": "display_data"
    }
   ],
   "source": [
    "img = io.imread(\"./pattern1.png\")\n",
    "th = 128\n",
    "img = img_as_ubyte(rgb2gray(img))\n",
    "th, bim = cv2.threshold(img, thresh=th, maxval=255, type=cv2.THRESH_BINARY)\n",
    "showimg(bim, _title=\"Załadowany obraz\")"
   ]
  },
  {
   "cell_type": "code",
   "execution_count": null,
   "metadata": {},
   "outputs": [],
   "source": [
    "def mark_object(_img, segtab, objnum=0, x=0, y=0):\n",
    "    global COLOR_BACKGROUND\n",
    "    if (x >= _img.shape[0]) or (x < 0) or (y >= _img.shape[1]) or (y < 0):\n",
    "        return\n",
    "    elif _img[x][y] == COLOR_BACKGROUND or segtab[x][y] >= 1:\n",
    "        return\n",
    "    segtab[x][y] = objnum\n",
    "    mark_object(_img, segtab=segtab, objnum=objnum, x=x-1, y=y)  # gora\n",
    "    mark_object(_img, segtab=segtab, objnum=objnum, x=x+1, y=y)  # dol\n",
    "    mark_object(_img, segtab=segtab, objnum=objnum, x=x, y=y-1)  # lewo\n",
    "    mark_object(_img, segtab=segtab, objnum=objnum, x=x, y=y+1)  # prawo\n",
    "\n",
    "def segment_img(_img):\n",
    "    obj_number = 1\n",
    "    segment_table = np.zeros(_img.shape)\n",
    "    for x in range(_img.shape[0]):\n",
    "        for y in range(_img.shape[1]):\n",
    "            if _img[x][y] == COLOR_BACKGROUND:\n",
    "                continue\n",
    "            else:\n",
    "                mark_object(_img, segment_table, objnum=obj_number, x=x, y=y)\n",
    "                OBJECTS_FOUND += 1\n",
    "                obj_number += 1\n",
    "\n",
    "segment_img(bim)\n",
    "print(OBJECTS_FOUND)"
   ]
  },
  {
   "cell_type": "code",
   "execution_count": null,
   "metadata": {},
   "outputs": [],
   "source": []
  }
 ],
 "metadata": {
  "kernelspec": {
   "display_name": "Python [conda env:py36]",
   "language": "python",
   "name": "conda-env-py36-py"
  },
  "language_info": {
   "codemirror_mode": {
    "name": "ipython",
    "version": 3
   },
   "file_extension": ".py",
   "mimetype": "text/x-python",
   "name": "python",
   "nbconvert_exporter": "python",
   "pygments_lexer": "ipython3",
   "version": "3.6.6"
  }
 },
 "nbformat": 4,
 "nbformat_minor": 2
}
