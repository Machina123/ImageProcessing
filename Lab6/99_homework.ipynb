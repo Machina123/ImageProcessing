{
 "cells": [
  {
   "cell_type": "code",
   "execution_count": 1,
   "metadata": {},
   "outputs": [],
   "source": [
    "import numpy as np\n",
    "import matplotlib.pyplot as plt\n",
    "from skimage import io, img_as_ubyte\n",
    "from skimage.color import rgb2gray\n",
    "import cv2\n",
    "import random"
   ]
  },
  {
   "cell_type": "code",
   "execution_count": 2,
   "metadata": {},
   "outputs": [],
   "source": [
    "COLOR_FOREGROUND = 255\n",
    "COLOR_BACKGROUND = 0\n",
    "\n",
    "def showimg(_img, _title=\"Obraz\"):\n",
    "    print(_img.shape, _img.dtype)\n",
    "    plt.imshow(_img, cmap=\"gray\")\n",
    "    plt.axis('off')\n",
    "    plt.suptitle(_title)\n",
    "    plt.show()"
   ]
  },
  {
   "cell_type": "code",
   "execution_count": 3,
   "metadata": {},
   "outputs": [
    {
     "name": "stdout",
     "output_type": "stream",
     "text": [
      "(344, 549) uint8\n"
     ]
    },
    {
     "name": "stderr",
     "output_type": "stream",
     "text": [
      "C:\\Users\\Machina\\Anaconda3\\envs\\py36\\lib\\site-packages\\skimage\\util\\dtype.py:130: UserWarning: Possible precision loss when converting from float64 to uint8\n",
      "  .format(dtypeobj_in, dtypeobj_out))\n"
     ]
    },
    {
     "data": {
      "image/png": "[encoded data removed]",
      "text/plain": [
       "<Figure size 432x288 with 1 Axes>"
      ]
     },
     "metadata": {
      "needs_background": "light"
     },
     "output_type": "display_data"
    }
   ],
   "source": [
    "img = io.imread(\"./pattern1.png\")\n",
    "th = 128\n",
    "img = img_as_ubyte(rgb2gray(img))\n",
    "th, bim = cv2.threshold(img, thresh=th, maxval=255, type=cv2.THRESH_BINARY_INV)\n",
    "showimg(bim, _title=\"Załadowany obraz\")"
   ]
  },
  {
   "cell_type": "code",
   "execution_count": 4,
   "metadata": {},
   "outputs": [],
   "source": [
    "# def mark_object(_img, segtab, objnum=0, x=0, y=0):\n",
    "# #   print(x,y)\n",
    "#     global COLOR_BACKGROUND\n",
    "#     if (x >= _img.shape[0]) or (x < 0) or (y >= _img.shape[1]) or (y < 0):\n",
    "#         return\n",
    "#     elif _img[x][y] == COLOR_BACKGROUND or segtab[x][y] >= 1:\n",
    "#         return\n",
    "#     segtab[x][y] = objnum\n",
    "#     mark_object(_img, segtab=segtab, objnum=objnum, x=x, y=y+1)  # prawo\n",
    "#     mark_object(_img, segtab=segtab, objnum=objnum, x=x+1, y=y)  # dol\n",
    "#     mark_object(_img, segtab=segtab, objnum=objnum, x=x, y=y-1)  # lewo\n",
    "# #     mark_object(_img, segtab=segtab, objnum=objnum, x=x-1, y=y)  # gora\n",
    "\n",
    "# def segment_img(_img):\n",
    "#     obj_number = 1\n",
    "#     segment_table = np.zeros(_img.shape)\n",
    "#     for x in range(_img.shape[0]):\n",
    "#         for y in range(_img.shape[1]):\n",
    "#             if _img[x][y] == COLOR_BACKGROUND:\n",
    "#                 continue\n",
    "#             else:\n",
    "#                 mark_object(_img, segment_table, objnum=obj_number, x=x, y=y)\n",
    "#                 global OBJECTS_FOUND\n",
    "#                 OBJECTS_FOUND += 1\n",
    "#                 obj_number += 1\n",
    "\n",
    "# segment_img(bim)\n",
    "# print(OBJECTS_FOUND)"
   ]
  },
  {
   "cell_type": "code",
   "execution_count": 5,
   "metadata": {},
   "outputs": [
    {
     "name": "stdout",
     "output_type": "stream",
     "text": [
      "10\n",
      "(344, 549, 3) uint8\n"
     ]
    },
    {
     "data": {
      "image/png": "[encoded data removed]",
      "text/plain": [
       "<Figure size 432x288 with 1 Axes>"
      ]
     },
     "metadata": {
      "needs_background": "light"
     },
     "output_type": "display_data"
    }
   ],
   "source": [
    "def visualize(segment_table):\n",
    "    max_segment_no = 0\n",
    "    for i in range(segment_table.shape[0]):\n",
    "        for j in range(segment_table.shape[1]):\n",
    "            if(segment_table[i][j] > max_segment_no):\n",
    "                max_segment_no = segment_table[i][j]\n",
    "    \n",
    "    vimg = np.zeros([segment_table.shape[0], segment_table.shape[1], 3], dtype=np.uint8)\n",
    "    segment_colors = [None] * (max_segment_no + 1)\n",
    "    segment_colors[0] = (0,0,0)\n",
    "    for i in range(1, max_segment_no + 1):\n",
    "        segment_colors[i] = (random.randint(0,255), random.randint(0,255), random.randint(0,255))\n",
    "    \n",
    "    for x in range(vimg.shape[0]):\n",
    "        for y in range(vimg.shape[1]):\n",
    "            for z in range(vimg.shape[2]):\n",
    "                vimg[x][y][z] = segment_colors[segment_table[x][y]][z]\n",
    "    return vimg\n",
    "\n",
    "def get_neighbouring(im, segment_table, px=0, py=0):\n",
    "    if segment_table[px-1][py-1] != 0:      # top left\n",
    "        return segment_table[px-1][py-1]\n",
    "    elif segment_table[px-1][py] != 0 :     # top center\n",
    "        return segment_table[px-1][py]\n",
    "    elif segment_table[px-1][py + 1] != 0:  # top right\n",
    "        return segment_table[px-1][py+1]\n",
    "    elif segment_table[px][py-1] != 0 :     # middle left\n",
    "        return segment_table[px][py-1]\n",
    "    elif segment_table[px][py+1] != 0 :     # middle right\n",
    "        return segment_table[px][py+1]\n",
    "    elif segment_table[px+1][py-1] != 0:    # bottom left\n",
    "        return segment_table[px+1][py-1]\n",
    "    elif segment_table[px+1][py] != 0 :     # bottom center\n",
    "        return segment_table[px+1][py]\n",
    "    elif segment_table[px+1][py+1] != 0:    # bottom right\n",
    "        return segment_table[px+1][py+1]\n",
    "    else:\n",
    "        return 0\n",
    "\n",
    "def segment_by_region_growing(im):\n",
    "    object_num = 1\n",
    "    segment_table = np.zeros(im.shape, dtype=np.uint32)\n",
    "    global COLOR_FOREGROUND, COLOR_BACKGROUND\n",
    "    for i in range(im.shape[0]):\n",
    "        for j in range(im.shape[1]):\n",
    "            if im[i][j] == COLOR_FOREGROUND:\n",
    "                first_neighbour = get_neighbouring(im, segment_table, px=i, py=j)\n",
    "                if first_neighbour != 0:\n",
    "                    segment_table[i][j] = first_neighbour\n",
    "                else:\n",
    "                    segment_table[i][j] = object_num\n",
    "                    object_num += 1\n",
    "            else:\n",
    "                continue\n",
    "    return ((object_num - 1), segment_table)\n",
    "\n",
    "objects, table = segment_by_region_growing(bim)\n",
    "print(objects)\n",
    "\n",
    "showimg(visualize(table), _title=\"Wizualizacja segmentacji\")"
   ]
  },
  {
   "cell_type": "code",
   "execution_count": null,
   "metadata": {},
   "outputs": [],
   "source": []
  }
 ],
 "metadata": {
  "kernelspec": {
   "display_name": "Python [conda env:py36]",
   "language": "python",
   "name": "conda-env-py36-py"
  },
  "language_info": {
   "codemirror_mode": {
    "name": "ipython",
    "version": 3
   },
   "file_extension": ".py",
   "mimetype": "text/x-python",
   "name": "python",
   "nbconvert_exporter": "python",
   "pygments_lexer": "ipython3",
   "version": "3.6.6"
  }
 },
 "nbformat": 4,
 "nbformat_minor": 2
}
