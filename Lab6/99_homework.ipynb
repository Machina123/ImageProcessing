{
 "cells": [
  {
   "cell_type": "code",
   "execution_count": 5,
   "metadata": {},
   "outputs": [],
   "source": [
    "import numpy as np\n",
    "import matplotlib.pyplot as plt\n",
    "from skimage import io, img_as_ubyte\n",
    "from skimage.color import rgb2gray\n",
    "import cv2\n",
    "import random"
   ]
  },
  {
   "cell_type": "code",
   "execution_count": 6,
   "metadata": {},
   "outputs": [],
   "source": [
    "COLOR_FOREGROUND = 255\n",
    "COLOR_BACKGROUND = 0\n",
    "\n",
    "def showimg(_img, _title=\"Obraz\"):\n",
    "    print(_img.shape, _img.dtype)\n",
    "    plt.imshow(_img, cmap=\"gray\")\n",
    "    plt.axis('off')\n",
    "    plt.suptitle(_title)\n",
    "    plt.show()"
   ]
  },
  {
   "cell_type": "code",
   "execution_count": 7,
   "metadata": {},
   "outputs": [
    {
     "name": "stdout",
     "output_type": "stream",
     "text": [
      "(344, 549) uint8\n"
     ]
    },
    {
     "data": {
      "image/png": "[encoded data removed]",
      "text/plain": [
       "<Figure size 432x288 with 1 Axes>"
      ]
     },
     "metadata": {
      "needs_background": "light"
     },
     "output_type": "display_data"
    }
   ],
   "source": [
    "img = io.imread(\"./pattern1.png\")\n",
    "th = 128\n",
    "img = img_as_ubyte(rgb2gray(img))\n",
    "th, bim = cv2.threshold(img, thresh=th, maxval=255, type=cv2.THRESH_BINARY_INV)\n",
    "showimg(bim, _title=\"Załadowany obraz\")"
   ]
  },
  {
   "cell_type": "code",
   "execution_count": 8,
   "metadata": {},
   "outputs": [
    {
     "name": "stdout",
     "output_type": "stream",
     "text": [
      "10\n",
      "(344, 549, 3) uint8\n"
     ]
    },
    {
     "data": {
      "image/png": "[encoded data removed]",
      "text/plain": [
       "<Figure size 432x288 with 1 Axes>"
      ]
     },
     "metadata": {
      "needs_background": "light"
     },
     "output_type": "display_data"
    }
   ],
   "source": [
    "def visualize(segment_table):\n",
    "    max_segment_no = 0\n",
    "    for i in range(segment_table.shape[0]):\n",
    "        for j in range(segment_table.shape[1]):\n",
    "            if(segment_table[i][j] > max_segment_no):\n",
    "                max_segment_no = segment_table[i][j]\n",
    "    \n",
    "    vimg = np.zeros([segment_table.shape[0], segment_table.shape[1], 3], dtype=np.uint8)\n",
    "    segment_colors = [None] * (max_segment_no + 1)\n",
    "    segment_colors[0] = (0,0,0)\n",
    "    for i in range(1, max_segment_no + 1):\n",
    "        segment_colors[i] = (random.randint(0,255), random.randint(0,255), random.randint(0,255))\n",
    "    \n",
    "    for x in range(vimg.shape[0]):\n",
    "        for y in range(vimg.shape[1]):\n",
    "            for z in range(vimg.shape[2]):\n",
    "                vimg[x][y][z] = segment_colors[segment_table[x][y]][z]\n",
    "    return vimg\n",
    "\n",
    "def get_neighbouring(im, segment_table, px=0, py=0):\n",
    "    if segment_table[px-1][py-1] != 0:      # top left\n",
    "        return segment_table[px-1][py-1]\n",
    "    elif segment_table[px-1][py] != 0 :     # top center\n",
    "        return segment_table[px-1][py]\n",
    "    elif segment_table[px-1][py + 1] != 0:  # top right\n",
    "        return segment_table[px-1][py+1]\n",
    "    elif segment_table[px][py+1] != 0 :     # middle right\n",
    "        return segment_table[px][py+1]\n",
    "    elif segment_table[px+1][py+1] != 0:    # bottom right\n",
    "        return segment_table[px+1][py+1]\n",
    "    elif segment_table[px+1][py] != 0 :     # bottom center\n",
    "        return segment_table[px+1][py]\n",
    "    elif segment_table[px+1][py-1] != 0:    # bottom left\n",
    "        return segment_table[px+1][py-1]\n",
    "    elif segment_table[px][py-1] != 0 :     # middle left\n",
    "        return segment_table[px][py-1]\n",
    "    else:\n",
    "        return 0\n",
    "\n",
    "def segment_by_region_growing(im):\n",
    "    object_num = 1\n",
    "    segment_table = np.zeros(im.shape, dtype=np.uint32)\n",
    "    global COLOR_FOREGROUND, COLOR_BACKGROUND\n",
    "    for i in range(im.shape[0]):\n",
    "        for j in range(im.shape[1]):\n",
    "            if im[i][j] == COLOR_FOREGROUND:\n",
    "                first_neighbour = get_neighbouring(im, segment_table, px=i, py=j)\n",
    "                if first_neighbour != 0:\n",
    "                    segment_table[i][j] = first_neighbour\n",
    "                else:\n",
    "                    segment_table[i][j] = object_num\n",
    "                    object_num += 1\n",
    "            else:\n",
    "                continue\n",
    "    return ((object_num - 1), segment_table)\n",
    "\n",
    "objects, table = segment_by_region_growing(bim)\n",
    "print(objects)\n",
    "\n",
    "showimg(visualize(table), _title=\"Wizualizacja segmentacji\")"
   ]
  },
  {
   "cell_type": "code",
   "execution_count": null,
   "metadata": {},
   "outputs": [],
   "source": []
  }
 ],
 "metadata": {
  "kernelspec": {
   "display_name": "Python [conda env:py36]",
   "language": "python",
   "name": "conda-env-py36-py"
  },
  "language_info": {
   "codemirror_mode": {
    "name": "ipython",
    "version": 3
   },
   "file_extension": ".py",
   "mimetype": "text/x-python",
   "name": "python",
   "nbconvert_exporter": "python",
   "pygments_lexer": "ipython3",
   "version": "3.6.6"
  }
 },
 "nbformat": 4,
 "nbformat_minor": 2
}
